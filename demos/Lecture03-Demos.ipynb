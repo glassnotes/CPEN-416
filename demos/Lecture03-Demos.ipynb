{
 "cells": [
  {
   "cell_type": "code",
   "execution_count": null,
   "metadata": {},
   "outputs": [],
   "source": []
  },
  {
   "cell_type": "markdown",
   "metadata": {},
   "source": [
    "# Demos: Lecture 3"
   ]
  },
  {
   "cell_type": "code",
   "execution_count": 1,
   "metadata": {},
   "outputs": [],
   "source": [
    "import pennylane as qml\n",
    "from pennylane import numpy as np"
   ]
  },
  {
   "cell_type": "markdown",
   "metadata": {},
   "source": [
    "## Exercise 1: state preparation"
   ]
  },
  {
   "cell_type": "markdown",
   "metadata": {},
   "source": [
    "Write a QNode that prepares the quantum state\n",
    "\n",
    "$$\n",
    "\\begin{equation*}\n",
    "|\\psi \\rangle = \\frac{\\sqrt{3}}{2}|0 \\rangle  - \\frac{1}{2} e^{i\\frac{5\\pi}{4}}| 1\\rangle \n",
    "\\end{equation*}\n",
    "$$\n",
    "\n",
    "Run it on an ideal simulated device (do not set `shots`), and return `qml.state()`. "
   ]
  },
  {
   "cell_type": "code",
   "execution_count": 19,
   "metadata": {},
   "outputs": [
    {
     "data": {
      "text/plain": [
       "tensor([0.8660254 -0.j        , 0.35355339+0.35355339j], requires_grad=True)"
      ]
     },
     "execution_count": 19,
     "metadata": {},
     "output_type": "execute_result"
    }
   ],
   "source": [
    "dev = qml.device(\"default.qubit\", wires=1)\n",
    "\n",
    "@qml.qnode(dev)\n",
    "def state_prep():\n",
    "    # Version 1\n",
    "    qml.RY(np.pi/3, wires=0)\n",
    "    qml.T(wires=0)\n",
    "\n",
    "    # Version 2 - will need to factor out phase to see correct result\n",
    "    # qml.RY(np.pi/3, wires=0)\n",
    "    # qml.RZ(5 * np.pi/4, wires=0)\n",
    "    # qml.PauliZ(wires=0)\n",
    "    return qml.state()\n",
    "\n",
    "vec = state_prep()\n",
    "vec # for version 1\n",
    "# np.round(vec * np.exp(-1j * np.angle(vec[0])), decimals=8) # for version 2"
   ]
  },
  {
   "cell_type": "code",
   "execution_count": 11,
   "metadata": {},
   "outputs": [
    {
     "data": {
      "text/plain": [
       "np.complex128(0.35355339059327384+0.35355339059327373j)"
      ]
     },
     "execution_count": 11,
     "metadata": {},
     "output_type": "execute_result"
    }
   ],
   "source": [
    "-0.5 * np.exp(5*np.pi*1j/4)"
   ]
  },
  {
   "cell_type": "markdown",
   "metadata": {},
   "source": [
    "## Exercise 2: relative phase"
   ]
  },
  {
   "cell_type": "markdown",
   "metadata": {},
   "source": [
    "Implement the circuit in the picture. Run it on a device with 1000 shots, and try two different values of $\\theta$. How does $\\theta$ affect the measurement outcome probabilites?\n",
    "\n",
    "<img src=\"fig/exercise-circuit.png\" width=300>"
   ]
  },
  {
   "cell_type": "code",
   "execution_count": 15,
   "metadata": {},
   "outputs": [],
   "source": [
    "dev = qml.device(\"default.qubit\", wires=1, shots=1000)\n",
    "\n",
    "@qml.qnode(dev)\n",
    "def qfunc(theta):\n",
    "    qml.Hadamard(wires=0)\n",
    "    qml.RZ(theta, wires=0)\n",
    "    return qml.probs()"
   ]
  },
  {
   "cell_type": "code",
   "execution_count": 17,
   "metadata": {},
   "outputs": [
    {
     "data": {
      "text/plain": [
       "array([0.506, 0.494])"
      ]
     },
     "execution_count": 17,
     "metadata": {},
     "output_type": "execute_result"
    }
   ],
   "source": [
    "qfunc(29321737)"
   ]
  },
  {
   "cell_type": "markdown",
   "metadata": {
    "tags": []
   },
   "source": [
    "## Exercise 3: $Y$-basis rotation"
   ]
  },
  {
   "cell_type": "markdown",
   "metadata": {},
   "source": [
    "Run the circuit from exercise 2, but measure in the $Y$ basis. Plot the outcome probability of $|p\\rangle$, as a function of $\\theta$."
   ]
  },
  {
   "cell_type": "code",
   "execution_count": null,
   "metadata": {},
   "outputs": [],
   "source": [
    "dev = qml.device('default.qubit', wires=1)\n",
    "  \n",
    "def convert_from_y_basis():\n",
    "    # YOUR CODE HERE; find a circuit that sends \n",
    "    # |0> -> |p> and |1> -> |m>\n",
    "    \n",
    "@qml.qnode(dev)\n",
    "def rotate_basis():   \n",
    "    return"
   ]
  },
  {
   "cell_type": "code",
   "execution_count": null,
   "metadata": {},
   "outputs": [],
   "source": [
    "import matplotlib.pyplot as plt\n",
    "\n",
    "plt.plot(thetas, [rotate_with_rz(t)[0] for t in thetas])"
   ]
  },
  {
   "cell_type": "code",
   "execution_count": null,
   "metadata": {},
   "outputs": [],
   "source": []
  }
 ],
 "metadata": {
  "kernelspec": {
   "display_name": "Python 3 (ipykernel)",
   "language": "python",
   "name": "python3"
  },
  "language_info": {
   "codemirror_mode": {
    "name": "ipython",
    "version": 3
   },
   "file_extension": ".py",
   "mimetype": "text/x-python",
   "name": "python",
   "nbconvert_exporter": "python",
   "pygments_lexer": "ipython3",
   "version": "3.10.12"
  }
 },
 "nbformat": 4,
 "nbformat_minor": 4
}
