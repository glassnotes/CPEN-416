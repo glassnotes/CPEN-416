{
 "cells": [
  {
   "cell_type": "markdown",
   "id": "877db40a-e5e9-462a-84e5-0e2f52b93597",
   "metadata": {},
   "source": [
    "# Demos: Lecture 2"
   ]
  },
  {
   "cell_type": "markdown",
   "id": "d7f6550f-3b76-4b19-8bd1-e41bbe7cab4c",
   "metadata": {},
   "source": [
    "## Exercise 1: QNodes"
   ]
  },
  {
   "cell_type": "markdown",
   "id": "4514aaea-7a0a-4628-8677-2cdbe6408b62",
   "metadata": {},
   "source": [
    "Perform the quantum computation below in PennyLane on a device with 1000 shots. What is the probability of observing the qubit in state $|0\\rangle$ after measurement?"
   ]
  },
  {
   "cell_type": "markdown",
   "id": "fa6c1c7d-d6ec-4170-ba10-731ff6ead12c",
   "metadata": {},
   "source": [
    "<img src=\"fig/hz.png\" width=400>"
   ]
  },
  {
   "cell_type": "code",
   "execution_count": null,
   "id": "3ee4789b-cf09-4233-8173-addff20dead8",
   "metadata": {},
   "outputs": [],
   "source": [
    " "
   ]
  },
  {
   "cell_type": "code",
   "execution_count": null,
   "id": "31743d0d-a39b-4963-85b2-b75706669cac",
   "metadata": {},
   "outputs": [],
   "source": []
  },
  {
   "cell_type": "markdown",
   "id": "dacdd8f6-8ef0-4cb6-83b4-947df3d01713",
   "metadata": {},
   "source": [
    "## Exercise 2: state preparation"
   ]
  },
  {
   "cell_type": "markdown",
   "id": "e101b5e3-c666-4432-8855-bd20afd3347e",
   "metadata": {},
   "source": [
    "Write a QNode that prepares the quantum state\n",
    "\n",
    "$$\n",
    "\\begin{equation*}\n",
    "|\\psi \\rangle = \\frac{\\sqrt{3}}{2}|0 \\rangle  - \\frac{1}{2} e^{i\\frac{5\\pi}{4}}| 1\\rangle \n",
    "\\end{equation*}\n",
    "$$\n",
    "\n",
    "Run it on an ideal simulated device (do not set `shots`), and return `qml.state()`. "
   ]
  },
  {
   "cell_type": "code",
   "execution_count": null,
   "id": "18b32247-1868-4e5b-b157-9990cdea32bb",
   "metadata": {},
   "outputs": [],
   "source": []
  },
  {
   "cell_type": "code",
   "execution_count": null,
   "id": "83ee7943-ffaf-47d0-87e7-80f14cec606b",
   "metadata": {},
   "outputs": [],
   "source": []
  },
  {
   "cell_type": "markdown",
   "id": "f6b15ea9-6c9b-455f-9747-072a11797b47",
   "metadata": {},
   "source": [
    "## Exercise 3: relative phase"
   ]
  },
  {
   "cell_type": "markdown",
   "id": "950c4751-8ac4-4042-a58b-b28cd5a104ba",
   "metadata": {},
   "source": [
    "Implement the circuit in the picture. Run it on a device with 1000 shots, and try two different values of $\\theta$. How does $\\theta$ affect the measurement outcome probabilites?\n",
    "\n",
    "<img src=\"fig/exercise-circuit.png\" width=400>\n",
    "\n"
   ]
  },
  {
   "cell_type": "code",
   "execution_count": null,
   "id": "9884ea50-062b-4f20-8eb2-fdb5081a7367",
   "metadata": {},
   "outputs": [],
   "source": []
  }
 ],
 "metadata": {
  "kernelspec": {
   "display_name": "Python 3 (ipykernel)",
   "language": "python",
   "name": "python3"
  },
  "language_info": {
   "codemirror_mode": {
    "name": "ipython",
    "version": 3
   },
   "file_extension": ".py",
   "mimetype": "text/x-python",
   "name": "python",
   "nbconvert_exporter": "python",
   "pygments_lexer": "ipython3",
   "version": "3.10.12"
  }
 },
 "nbformat": 4,
 "nbformat_minor": 5
}
